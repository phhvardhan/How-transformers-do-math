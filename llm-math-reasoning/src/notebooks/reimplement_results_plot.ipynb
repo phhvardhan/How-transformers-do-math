{
 "cells": [
  {
   "cell_type": "markdown",
   "id": "3f633892",
   "metadata": {},
   "source": [
    "# Plot Results for Model Evaluation"
   ]
  },
  {
   "cell_type": "code",
   "execution_count": null,
   "id": "cef61f06",
   "metadata": {},
   "outputs": [],
   "source": [
    "\n",
    "import matplotlib.pyplot as plt\n",
    "import pandas as pd\n",
    "import os\n",
    "\n",
    "# Load evaluation results\n",
    "def load_results(file_path):\n",
    "    return pd.read_csv(file_path)\n",
    "\n",
    "# Plot accuracy vs input digit length\n",
    "def plot_results(results, model_name):\n",
    "    plt.figure(figsize=(10, 6))\n",
    "\n",
    "    for mode in [\"direct\", \"scratchpad\", \"rfft\"]:\n",
    "        plt.plot(results[\"digit_length\"], results[mode], label=f\"{model_name}: {mode.capitalize()}\")\n",
    "\n",
    "    plt.xlabel(\"Input Digit Length\")\n",
    "    plt.ylabel(\"Model Accuracy\")\n",
    "    plt.title(f\"Re-Implementation Results for {model_name} Model (Direct, Scratchpad, RFFT)\")\n",
    "    plt.legend()\n",
    "    plt.grid(True)\n",
    "    plt.show()\n",
    "\n",
    "# Main function\n",
    "def main():\n",
    "    # Define paths to evaluation result files\n",
    "    gpt3_results_path = \"gpt3.5_results.csv\"\n",
    "    llama_results_path = \"llama_results.csv\"\n",
    "\n",
    "    # Check if result files exist\n",
    "    if os.path.exists(gpt3_results_path):\n",
    "        gpt3_results = load_results(gpt3_results_path)\n",
    "        plot_results(gpt3_results, \"GPT-3.5\")\n",
    "    else:\n",
    "        print(\"Error: GPT-3.5 results file not found.\")\n",
    "\n",
    "    if os.path.exists(llama_results_path):\n",
    "        llama_results = load_results(llama_results_path)\n",
    "        plot_results(llama_results, \"Llama-7B\")\n",
    "    else:\n",
    "        print(\"Error: Llama-7B results file not found.\")\n",
    "\n",
    "if __name__ == \"__main__\":\n",
    "    main()\n"
   ]
  }
 ],
 "metadata": {},
 "nbformat": 4,
 "nbformat_minor": 5
}
